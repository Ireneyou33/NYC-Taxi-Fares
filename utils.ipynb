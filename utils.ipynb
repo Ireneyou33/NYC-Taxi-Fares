{
  "nbformat": 4,
  "nbformat_minor": 0,
  "metadata": {
    "colab": {
      "name": "utils.ipynb",
      "provenance": [],
      "collapsed_sections": [],
      "authorship_tag": "ABX9TyP9ut8SIrUFOcCrrZ2wEcoW"
    },
    "kernelspec": {
      "name": "python3",
      "display_name": "Python 3"
    }
  },
  "cells": [
    {
      "cell_type": "code",
      "metadata": {
        "id": "wwq3FSeoYtmg",
        "colab_type": "code",
        "colab": {}
      },
      "source": [
        "import pandas as pd\n",
        "import numpy as np\n",
        "import matplotlib.pyplot as plt"
      ],
      "execution_count": 0,
      "outputs": []
    },
    {
      "cell_type": "code",
      "metadata": {
        "id": "ZkTAueVqYnWk",
        "colab_type": "code",
        "colab": {}
      },
      "source": [
        "def preprocess(df):\n",
        "  # remove missing values\n",
        "  def remove_missing_values(df):\n",
        "    df = df.dropna()\n",
        "    return df\n",
        "  \n",
        "  # remove outliers in fare amount\n",
        "  def remove_fare_amount_outliers(df, lower_bound, upper_bound):\n",
        "    df = df[(df['fare_amount'] >= lower_bound) & (df['fare_amount'] <= upper_bound)]\n",
        "    return df\n",
        "\n",
        "  # replace outliers in passenger count with the mode\n",
        "  def replace_passenger_count_outliers(df):\n",
        "    mode = df['passenger_count'].mode()\n",
        "    df.loc[df['passenger_count'] == 0, 'passenger_count'] = mode\n",
        "    return df\n",
        "\n",
        "  # remove outliers in lat ang long\n",
        "  def remove_lat_long_outliers(df):\n",
        "    # range of long\n",
        "    nyc_min_longtitude = -74.05\n",
        "    nyc_max_longitude = -73.75\n",
        "    # range of lat\n",
        "    nyc_min_latitude = 40.6\n",
        "    nyc_max_latitude = 40.85\n",
        "    # only consider locations within NYC\n",
        "    for long in ['pickup_longitude', 'dropoff_longtide']:\n",
        "      df = df[(df[long] > nyc_min_longitude) & (df[long] < nyc_max_longitude)]\n",
        "    for lat in ['pickup_latitude', 'dropoff_latitude']:\n",
        "      df = df[(df[lat] > nyc_min_latitude) & (df[lat] < nyc_max_latitude)]\n",
        "    return df\n",
        "\n",
        "  df = remove_missing_values(df)\n",
        "  df = remove_fare_amount_outliers(df, lower_bound=0, upper_bound=100)\n",
        "  df = replace_passenger_count_outliers(df)\n",
        "  df = remove_lat_long_outliers(df)\n",
        "  return df"
      ],
      "execution_count": 0,
      "outputs": []
    },
    {
      "cell_type": "code",
      "metadata": {
        "id": "8UP1Z_HdYubf",
        "colab_type": "code",
        "colab": {}
      },
      "source": [
        "def feature_engineer(df):\n",
        "\n",
        "  def create_time_features(df):\n",
        "    # Create new col for time\n",
        "    df['year']=df['pickup_datetime'].dt.year # dt function\n",
        "    df['month']=df['pickup_datetime'].dt.month\n",
        "    df['day']=df['pickup_datetime'].dt.day\n",
        "    df['day_of_week']=df['pickup_datetime'].dt.dayofweek\n",
        "    df['hour']=df['pickup_datetime'].dt.hour\n",
        "    return df\n",
        "\n",
        "  def euc_distance(lat1, long1, lat2, long2):\n",
        "    # Euclidean distance\n",
        "    return (((lat1-lat2)**2 + (long1-long2)**2)**0.5)\n",
        "\n",
        "  def create_pickup_dropoff_dist_features(df):\n",
        "    # Calculate distance travelled\n",
        "    df['distance'] = euc_distance(df['pickup_latitude'], df['pickup_longitude'], df['dropoff_latitude'], df['dropoff_longitude'])\n",
        "    return df\n",
        "\n",
        "  def create_airport_dist_features(df):\n",
        "    airports = {'JFK_Airport': (-73.78, 40.643),\n",
        "       'LaGuardia_Airport': (-73.87, 40.77),\n",
        "       'Newark_Airport': (-74.18, 40.69)}\n",
        "    for airport in airports:\n",
        "      df['pickup_dist_' + airport] = euc_distance(df['pickup_latitude'], df['pickup_longitude'], airports[airport][1], airports[airport][0])\n",
        "      df['dropoff_dist_' + airport] = euc_distance(df['dropoff_latitude'], df['dropoff_longitude'], airports[airport][1], airports[airport][0])\n",
        "    return df\n",
        "\n",
        "  df = create_time_features(df)\n",
        "  df = create_pickup_dropoff_dist_features(df)\n",
        "  df = create_airport_dist_features(df)\n",
        "  df = df.drop(['key'], axis=1)\n",
        "  return df"
      ],
      "execution_count": 0,
      "outputs": []
    }
  ]
}