{
  "nbformat": 4,
  "nbformat_minor": 0,
  "metadata": {
    "colab": {
      "name": "utils.ipynb",
      "provenance": [],
      "collapsed_sections": [],
      "authorship_tag": "ABX9TyNckjBTJJSIhrrwVE5TmZmX",
      "include_colab_link": true
    },
    "kernelspec": {
      "name": "python3",
      "display_name": "Python 3"
    }
  },
  "cells": [
    {
      "cell_type": "markdown",
      "metadata": {
        "id": "view-in-github",
        "colab_type": "text"
      },
      "source": [
        "<a href=\"https://colab.research.google.com/github/Ireneyou33/NYC-Taxi-Fares/blob/master/utils.ipynb\" target=\"_parent\"><img src=\"https://colab.research.google.com/assets/colab-badge.svg\" alt=\"Open In Colab\"/></a>"
      ]
    },
    {
      "cell_type": "code",
      "metadata": {
        "id": "wwq3FSeoYtmg",
        "colab_type": "code",
        "colab": {}
      },
      "source": [
        "import pandas as pd\n",
        "import numpy as np\n",
        "import matplotlib.pyplot as plt"
      ],
      "execution_count": 0,
      "outputs": []
    },
    {
      "cell_type": "code",
      "metadata": {
        "id": "ZkTAueVqYnWk",
        "colab_type": "code",
        "colab": {}
      },
      "source": [
        "def preprocess(df):\n",
        "  # remove missing values\n",
        "  def remove_missing_values(df):\n",
        "    df = df.dropna()\n",
        "    return df\n",
        "  \n",
        "  # remove outliers in fare amount\n",
        "  def remove_fare_amount_outliers(df, lower_bound, upper_bound):\n",
        "    df = df[(df['fare_amount'] >= lower_bound) & (df['fare_amount'] <= upper_bound)]\n",
        "    return df\n",
        "\n",
        "  # replace outliers in passenger count with the mode\n",
        "  def replace_passenger_count_outliers(df):\n",
        "    mode = df['passenger_count'].mode()\n",
        "    df.loc[df['passenger_count'] == 0, 'passenger_count'] = mode\n",
        "    return df\n",
        "\n",
        "  # remove outliers in lat ang long\n",
        "  def remove_lat_long_outliers(df):\n",
        "    # range of long\n",
        "    nyc_min_longtitude = -74.05\n",
        "    nyc_max_longitude = -73.75\n",
        "    # range of lat\n",
        "    nyc_min_latitude = 40.6\n",
        "    nyc_max_latitude = 40.85\n",
        "    # only consider locations within NYC\n",
        "    for long in ['pickup_longitude', 'dropoff_longtide']:\n",
        "      df = df[(df[long] > nyc_min_longitude) & (df[long] < nyc_max_longitude)]\n",
        "    for lat in ['pickup_latitude', 'dropoff_latitude']:\n",
        "      df = df[(df[lat] > nyc_min_latitude) & (df[lat] < nyc_max_latitude)]\n",
        "    return df\n",
        "\n",
        "  df = remove_missing_values(df)\n",
        "  df = remove_fare_amount_outliers(df, lower_bound=0, upper_bound=100)\n",
        "  df = replace_passenger_count_outliers(df)\n",
        "  df = remove_lat_long_outliers(df)\n",
        "  return df"
      ],
      "execution_count": 0,
      "outputs": []
    },
    {
      "cell_type": "code",
      "metadata": {
        "id": "8UP1Z_HdYubf",
        "colab_type": "code",
        "colab": {}
      },
      "source": [
        ""
      ],
      "execution_count": 0,
      "outputs": []
    }
  ]
}